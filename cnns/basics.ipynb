{
 "cells": [
  {
   "cell_type": "markdown",
   "id": "b84e3168",
   "metadata": {},
   "source": [
    "# Computer Vision\n",
    "\n",
    "Computer vision is a complex topic with a wide variety of tasks. In this notebook, we'll cover the basics of processing images with pytorch."
   ]
  },
  {
   "cell_type": "markdown",
   "id": "70a4a176",
   "metadata": {},
   "source": [
    "***\n",
    "# Image Representation\n",
    "\n",
    "In deep learning, images are represented as tensors. We do this because it is extremely easy to store pixel data in them. \n",
    "\n",
    "Converting an image to a tensors is as simple as creating a PIL image object and using the `.ToTensor()` function on it.\n",
    "\n",
    "The dimensions of an image are (C, H, W)\n",
    "- C -> Channels (1 for grayscale, 3 for rgb)\n",
    "- H -> Height in pixels of an image\n",
    "- W -> Width in pixels of an image\n",
    "\n",
    "For example, a 1080p rgb image converted into a tensor will be in the form (3, 1080, 1920)\n",
    "\n",
    "Lets check out an example below."
   ]
  },
  {
   "cell_type": "code",
   "execution_count": null,
   "id": "566a778d",
   "metadata": {
    "vscode": {
     "languageId": "plaintext"
    }
   },
   "outputs": [],
   "source": [
    "import pillow"
   ]
  }
 ],
 "metadata": {
  "language_info": {
   "name": "python"
  }
 },
 "nbformat": 4,
 "nbformat_minor": 5
}
