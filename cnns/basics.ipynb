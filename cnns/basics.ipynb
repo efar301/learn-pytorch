{
 "cells": [
  {
   "cell_type": "markdown",
   "id": "b84e3168",
   "metadata": {},
   "source": [
    "# Computer Vision\n",
    "\n",
    "Computer vision is a complex topic with a wide variety of tasks. In this notebook, we'll cover the basics of processing images with pytorch."
   ]
  },
  {
   "cell_type": "markdown",
   "id": "70a4a176",
   "metadata": {},
   "source": [
    "***\n",
    "# Image Representation\n",
    "\n",
    "In deep learning, images are represented as tensors. We do this because it is extremely easy to store pixel data in them. \n",
    "\n",
    "Converting an image to a tensors is as simple as creating a PIL image object and using the `.ToTensor()` function on it.\n",
    "\n",
    "The dimensions of an image are (C, H, W)\n",
    "- C -> Channels (1 for grayscale, 3 for rgb)\n",
    "- H -> Height in pixels of an image\n",
    "- W -> Width in pixels of an image\n",
    "\n",
    "For example, a 1080p rgb image converted into a tensor will be in the form (3, 1080, 1920)\n",
    "\n",
    "Lets check out an example below."
   ]
  },
  {
   "cell_type": "code",
   "execution_count": null,
   "id": "566a778d",
   "metadata": {},
   "outputs": [
    {
     "name": "stdout",
     "output_type": "stream",
     "text": [
      "torch.Size([3, 850, 1074])\n"
     ]
    }
   ],
   "source": [
    "from PIL import Image\n",
    "from torchvision import transforms\n",
    "\n",
    "image = Image.open(\"../images/image_tensor.png\").convert(\"RGB\")\n",
    "\n",
    "pil_to_tensor = transforms.ToTensor() # ToTensor() also normalizes all pixel values between 0 and 1 \n",
    "tensor_img = pil_to_tensor(image)\n",
    "print(tensor_img.shape)"
   ]
  }
 ],
 "metadata": {
  "kernelspec": {
   "display_name": "pytorch",
   "language": "python",
   "name": "python3"
  },
  "language_info": {
   "codemirror_mode": {
    "name": "ipython",
    "version": 3
   },
   "file_extension": ".py",
   "mimetype": "text/x-python",
   "name": "python",
   "nbconvert_exporter": "python",
   "pygments_lexer": "ipython3",
   "version": "3.11.13"
  }
 },
 "nbformat": 4,
 "nbformat_minor": 5
}
