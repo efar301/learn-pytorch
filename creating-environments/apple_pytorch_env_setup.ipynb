{
  "cells": [
    {
      "cell_type": "markdown",
      "metadata": {
        "id": "z8TJCghGNNcy"
      },
      "source": [
        "# Pytorch environment setup\n",
        "\n",
        "This tutorial is meant for **Apple silicon** devices. See the windows tutorial [here](./windows_pytorch_env_setup.ipynb).\n",
        "\n",
        "Colab link [here](https://colab.research.google.com/drive/18ENld5Zfg0R_DtUwVwRAk15XlS7r92LX?usp=sharing).\n"
      ]
    },
    {
      "cell_type": "markdown",
      "metadata": {
        "id": "tKWhqfZHNqSF"
      },
      "source": [
        "***\n",
        "# Requirements:\n",
        "\n",
        "*  Python > 3.9\n",
        "*  Package manager (this tutorial will be using conda)"
      ]
    },
    {
      "cell_type": "markdown",
      "metadata": {
        "id": "jmdnPJ8TOVSt"
      },
      "source": [
        "***\n",
        "# Installing Conda\n",
        "\n",
        "Anaconda is a powerful python package manager that allows us to create separate environments to run python code with different dependencies.\n",
        "\n",
        " <br>\n",
        "\n",
        "There are several available versions of anaconda available for apple silicon. The official `miniconda3` and `anaconda` are good places to start, I personally prefer the community driven `miniforge3` version.\n",
        "\n",
        "<br>\n",
        "\n",
        "`anaconda`\n",
        "*  large package manager containing versions of python and r, ~4.4gb size\n",
        "\n",
        "install here:\n",
        "\n",
        "https://www.anaconda.com/docs/getting-started/anaconda/install#macos-linux-installation\n",
        "\n",
        "<br>\n",
        "\n",
        "`miniconda`\n",
        "*  cli only package manager with python only, ~480mb size\n",
        "\n",
        "install here:\n",
        "\n",
        "https://www.anaconda.com/docs/getting-started/miniconda/install#macos\n",
        "\n",
        "<br>\n",
        "\n",
        "`miniforge3`\n",
        "*  community created version similar to miniconda, has access to more packages than miniconda\n",
        "\n",
        "install here:\n",
        "\n",
        "https://github.com/conda-forge/miniforge\n",
        "\n",
        "<br>\n",
        "\n",
        "Note: conda is not the only package manager available, there are other options that you can use"
      ]
    },
    {
      "cell_type": "markdown",
      "metadata": {
        "id": "sspC_zDST_nX"
      },
      "source": [
        "***\n",
        "# Creating the Environment\n",
        "\n",
        "Now that you have conda installed, let's create the environment.\n",
        "\n",
        "In your terminal, type `conda create -n \"pytorch\" python=3.9` and follow the instructions.\n",
        "\n",
        "Once that's finished, we can install all of the required packages. \n",
        "\n",
        "First, activate your environment with `conda activate pytorch`. \n",
        "\n",
        "Next, install the packages with `conda install pytorch torchvision torchaudio numpy pandas`\n",
        "\n",
        "\n",
        "\n"
      ]
    },
    {
      "cell_type": "code",
      "execution_count": 1,
      "metadata": {
        "id": "wl-y9ibMM0fK"
      },
      "outputs": [],
      "source": [
        "# confirm your installation by creating a notebook with these lines of code\n",
        "# you will be prompted to install ipykernel when you try running the cell\n",
        "\n",
        "import torch\n",
        "print(\"PyTorch version:\", torch.__version__)\n",
        "print(\"MPS available (Apple Silicon):\", torch.backends.mps.is_available())"
      ]
    }
  ],
  "metadata": {
    "colab": {
      "provenance": []
    },
    "kernelspec": {
      "display_name": "Python 3",
      "name": "python3"
    },
    "language_info": {
      "name": "python"
    }
  },
  "nbformat": 4,
  "nbformat_minor": 0
}
