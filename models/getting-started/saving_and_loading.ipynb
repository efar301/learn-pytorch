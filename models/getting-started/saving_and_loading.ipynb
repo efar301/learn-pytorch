{
  "cells": [
    {
      "cell_type": "markdown",
      "metadata": {
        "id": "qxI_OKvEc9TA"
      },
      "source": [
        "# Saving a Model\n",
        "\n",
        "Colab link [here](https://colab.research.google.com/drive/1qNgCG7wlgfcuxrnyL6JbpBV9TAwNILr4?usp=sharing)\n",
        "\n",
        "<br>\n",
        "\n",
        "Now that we have a model trained. We want to save it so we can access it later. We use the `.pth` extension when we save files.\n",
        "\n",
        "<br>\n",
        "\n",
        "When we save a model, we save it's weights, not the model itself. This may be a little confusing at first, but as we look at the example below the theory should become clearer."
      ]
    },
    {
      "cell_type": "code",
      "execution_count": null,
      "metadata": {
        "id": "xyO7gcvAc3O_"
      },
      "outputs": [],
      "source": [
        "# import necessary modules\n",
        "import torch\n",
        "\n",
        "# initialize model\n",
        "model = fakeModel()\n",
        "\n",
        "# train model\n",
        "train(model)\n",
        "\n",
        "# now that the model is trained, we can save its weights\n",
        "torch.save(model.state_dict(),  'model_weights.pth')"
      ]
    },
    {
      "cell_type": "markdown",
      "metadata": {
        "id": "I0nwMAX0fYuL"
      },
      "source": [
        "***\n",
        "# Loading a Model\n",
        "\n",
        "Now we need to load our trained model weights. Let's see how to do this."
      ]
    },
    {
      "cell_type": "code",
      "execution_count": null,
      "metadata": {
        "id": "mNpEw4WWgAQY"
      },
      "outputs": [],
      "source": [
        "# define a new model\n",
        "model = fakeModel()\n",
        "\n",
        "model.load_state_dict(torch.load('model_weights.pth'))"
      ]
    },
    {
      "cell_type": "markdown",
      "metadata": {
        "id": "o14_fsK3f_ui"
      },
      "source": [
        "***\n",
        "# Checkpointing\n",
        "\n",
        "Now lets discuss checkpointing a model. By checkpointing I mean saving the entire training state. This includes the epoch, optimizer state, loss and model weights.\n",
        "\n",
        "Here's an example of creating and then loading a model checkpoint"
      ]
    },
    {
      "cell_type": "code",
      "execution_count": null,
      "metadata": {
        "id": "91Q2mVBthKPD"
      },
      "outputs": [],
      "source": [
        "# create checkpoint dictionary\n",
        "checkpoint = {\n",
        "    'epoch' = epoch,\n",
        "    'model_state_dict' = model.state_dict(),\n",
        "    'optimizer_state_dict' = optimizer.state_dict(),\n",
        "    'loss' = loss\n",
        "}\n",
        "\n",
        "# save the checkpoint\n",
        "torch.save(checkpoint, 'checkpoint.pth')\n",
        "\n",
        "# loading the checkpoint\n",
        "\n",
        "model = fakeModel()\n",
        "optimizer = torch.optim.Adam(model.parameters(), lr=0.001)\n",
        "\n",
        "checkpoint = torch.load('checkpoint.pth')\n",
        "model.load_state_dict(checkpoint['model_state_dict'])\n",
        "optimizer.load_state_dict(checkpoint['optimizer_state_dict'])\n",
        "start_epoch = checkpoint['epoch'] + 1\n",
        "loss = checkpoint['loss']"
      ]
    },
    {
      "cell_type": "markdown",
      "metadata": {
        "id": "k2tvGDSrjVxz"
      },
      "source": [
        "***\n",
        "# Best Practices\n",
        "\n",
        "There are several best practices for checkpointing models. Here are some key pointers:\n",
        "\n",
        "<br>\n",
        "\n",
        "1. Name your checkpoints with a descriptive filename (i.e. 'epoch_21_cp.pth').\n",
        "\n",
        "<br>\n",
        "\n",
        "2. Checkpoint as often as you're willing to. If your model only takes up 2MB, its perfectly fine to checkpoint it every epoch. On the contrary, if the model is 1GB, you may want to checkpoint every ten epochs."
      ]
    }
  ],
  "metadata": {
    "colab": {
      "provenance": []
    },
    "kernelspec": {
      "display_name": "Python 3",
      "name": "python3"
    },
    "language_info": {
      "name": "python"
    }
  },
  "nbformat": 4,
  "nbformat_minor": 0
}
