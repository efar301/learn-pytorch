{
  "cells": [
    {
      "cell_type": "markdown",
      "metadata": {
        "id": "VBbA7cNEL-gx"
      },
      "source": [
        "# The Training Loop\n",
        "\n",
        "Colab link [here](https://colab.research.google.com/drive/1gtXn60VrFcTYezSOubLOPpR1KV0FbQPb?usp=sharing)\n",
        "\n",
        "Once we have a model built, we have to train it. Pytorch uses a big for-loop to accomplish this task.\n",
        "\n",
        "<br>\n",
        "\n",
        "A single epoch consists of\n",
        "\n",
        "1.  The forward pass\n",
        "2.  Computing the loss\n",
        "3.  The backward pass\n",
        "4.  Updating parameters\n",
        "\n",
        "Let's see how we do all of these in one loop.\n",
        "\n",
        "First we have to create data and a model to train.\n"
      ]
    },
    {
      "cell_type": "code",
      "execution_count": 9,
      "metadata": {
        "id": "x27gK1OxL74Q"
      },
      "outputs": [],
      "source": [
        "# import necessary modules\n",
        "import torch\n",
        "from torchvision.datasets import MNIST\n",
        "from torch.utils.data import DataLoader\n",
        "from torchvision.transforms import ToTensor\n",
        "import torch.nn as nn\n",
        "import torch.nn.functional as F\n",
        "\n",
        "\n",
        "train_dataset = MNIST(root='data/', train=True, download=True, transform=ToTensor())\n",
        "test_dataset = MNIST(root='data/', train=False, download=True, transform=ToTensor())\n",
        "\n",
        "train_dl = DataLoader(train_dataset, batch_size=32, shuffle=True)\n",
        "test_dl = DataLoader(test_dataset, batch_size=32, shuffle=True)\n",
        "\n",
        "class mnistModel(nn.Module):\n",
        "  def __init__(self):\n",
        "    super().__init__()\n",
        "    self.layer1 = nn.Linear(28*28, 64)\n",
        "    self.layer2 = nn.Linear(64, 32)\n",
        "    self.layer3 = nn.Linear(32, 10) # can you figure out why the final output is 10?\n",
        "\n",
        "  def forward(self, x):\n",
        "    x = x.view(x.size(0), -1)\n",
        "    x = self.layer1(x)\n",
        "    x = F.relu(x)\n",
        "    x = self.layer2(x)\n",
        "    x = F.relu(x)\n",
        "    x = self.layer3(x)\n",
        "    return x"
      ]
    },
    {
      "cell_type": "markdown",
      "metadata": {
        "id": "5TV-tprgPnf4"
      },
      "source": [
        "***\n",
        "# Making the Loop\n",
        "\n",
        "Now that we have our dataloaders set up and our model created, lets make our training loop.\n",
        "\n",
        "We define the optimizer and loss function outside of the training loop.\n",
        "\n",
        "Wrapping the function `range()` with `tqdm()` gives us pretty progress bars to look at while the model trains."
      ]
    },
    {
      "cell_type": "code",
      "execution_count": 10,
      "metadata": {
        "colab": {
          "base_uri": "https://localhost:8080/"
        },
        "id": "oR03PTnCP2L2",
        "outputId": "af93ef1e-6959-468e-9cd0-b8654ba51283"
      },
      "outputs": [
        {
          "name": "stderr",
          "output_type": "stream",
          "text": [
            " 20%|██        | 1/5 [00:11<00:44, 11.09s/it]"
          ]
        },
        {
          "name": "stdout",
          "output_type": "stream",
          "text": [
            "Epoch 1 / 5 complete. Last batch loss: 0.2145\n"
          ]
        },
        {
          "name": "stderr",
          "output_type": "stream",
          "text": [
            "\r 40%|████      | 2/5 [00:23<00:34, 11.62s/it]"
          ]
        },
        {
          "name": "stdout",
          "output_type": "stream",
          "text": [
            "Epoch 2 / 5 complete. Last batch loss: 0.0434\n"
          ]
        },
        {
          "name": "stderr",
          "output_type": "stream",
          "text": [
            "\r 60%|██████    | 3/5 [00:33<00:22, 11.28s/it]"
          ]
        },
        {
          "name": "stdout",
          "output_type": "stream",
          "text": [
            "Epoch 3 / 5 complete. Last batch loss: 0.0241\n"
          ]
        },
        {
          "name": "stderr",
          "output_type": "stream",
          "text": [
            "\r 80%|████████  | 4/5 [00:44<00:11, 11.06s/it]"
          ]
        },
        {
          "name": "stdout",
          "output_type": "stream",
          "text": [
            "Epoch 4 / 5 complete. Last batch loss: 0.1050\n"
          ]
        },
        {
          "name": "stderr",
          "output_type": "stream",
          "text": [
            "100%|██████████| 5/5 [00:56<00:00, 11.20s/it]"
          ]
        },
        {
          "name": "stdout",
          "output_type": "stream",
          "text": [
            "Epoch 5 / 5 complete. Last batch loss: 0.0684\n"
          ]
        },
        {
          "name": "stderr",
          "output_type": "stream",
          "text": [
            "\n"
          ]
        }
      ],
      "source": [
        "# import necessary module\n",
        "from tqdm import tqdm # for progress bars\n",
        "import torch.optim as optim\n",
        "\n",
        "model = mnistModel()\n",
        "\n",
        "# loss function and optimizer\n",
        "loss_fn = nn.CrossEntropyLoss()\n",
        "optimizer = optim.Adam(model.parameters(), lr=0.001)\n",
        "\n",
        "\n",
        "num_epochs = 5\n",
        "\n",
        "for epoch in tqdm(range(num_epochs)):\n",
        "  for batch in train_dl:\n",
        "    inputs, targets = batch\n",
        "\n",
        "    # 1. forward pass\n",
        "    outputs = model(inputs)\n",
        "\n",
        "    # 2. compute loss\n",
        "    loss = loss_fn(outputs, targets)\n",
        "\n",
        "    # 3. backward pass\n",
        "    optimizer.zero_grad()\n",
        "    loss.backward()\n",
        "\n",
        "    # 4. update parameters\n",
        "    optimizer.step()\n",
        "\n",
        "\n",
        "  print(f' Epoch {epoch + 1} / 5 complete. Last batch loss: {loss.item():.4f}')\n"
      ]
    },
    {
      "cell_type": "markdown",
      "metadata": {
        "id": "7xvxXL6ma7bB"
      },
      "source": [
        "This is a very simple loop. It can get much more complicated if we want to add more utilities such as validation, loss tracking and batch statistics."
      ]
    },
    {
      "cell_type": "markdown",
      "metadata": {
        "id": "ZrKB3nx3WWSd"
      },
      "source": [
        "***\n",
        "# Testing the model\n",
        "\n",
        "After training the model, we can evaluate it. Let's evaluate it on a single image from the testing set."
      ]
    },
    {
      "cell_type": "code",
      "execution_count": 20,
      "metadata": {
        "colab": {
          "base_uri": "https://localhost:8080/",
          "height": 448
        },
        "id": "5JX852tRWjUD",
        "outputId": "26db00ad-76e9-4b4d-9146-5509c5ba6788"
      },
      "outputs": [
        {
          "name": "stdout",
          "output_type": "stream",
          "text": [
            "The predicted value is: 7\n"
          ]
        },
        {
          "data": {
            "image/png": "[encoded data removed]",
            "text/plain": [
              "<Figure size 640x480 with 1 Axes>"
            ]
          },
          "metadata": {},
          "output_type": "display_data"
        }
      ],
      "source": [
        "# import necessary modules\n",
        "import matplotlib.pyplot as plt\n",
        "\n",
        "# set the model to evaluation mode\n",
        "model.eval()\n",
        "\n",
        "# we do not need gradients to be active while we test\n",
        "with torch.no_grad():\n",
        "  image, label = test_dataset[0]\n",
        "  plt.imshow(image.squeeze(), cmap='gray')\n",
        "  image.unsqueeze(0) # add batch dimension [1, 1, 28, 28]\n",
        "  image = image.view(image.size(0), -1) # flatten the image to [1, 28*28]\n",
        "  output = model(image)\n",
        "  prediction = output.argmax(1)\n",
        "  print(f'The predicted value is: {prediction[0]}')\n"
      ]
    }
  ],
  "metadata": {
    "colab": {
      "provenance": []
    },
    "kernelspec": {
      "display_name": "Python 3",
      "name": "python3"
    },
    "language_info": {
      "name": "python"
    }
  },
  "nbformat": 4,
  "nbformat_minor": 0
}
